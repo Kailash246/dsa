{
 "cells": [
  {
   "cell_type": "code",
   "execution_count": 2,
   "id": "a647dea1-c556-4e5c-a0e8-afeca0438901",
   "metadata": {},
   "outputs": [
    {
     "name": "stdout",
     "output_type": "stream",
     "text": [
      "[120, 60, 40, 30, 24]\n"
     ]
    }
   ],
   "source": [
    "import numpy as np\n",
    "x=np.array([1,2,3,4,5])\n",
    "def prod(x):\n",
    "    n=len(x)\n",
    "    res=[1]*n\n",
    "    for i in range(n):\n",
    "        for j in range(n):\n",
    "            if i!=j:\n",
    "                res[i]*=x[j]\n",
    "    return res\n",
    "\n",
    "result=prod(x)\n",
    "print(result)"
   ]
  },
  {
   "cell_type": "code",
   "execution_count": null,
   "id": "13f479f4-55fb-43f7-b557-c8229f06b8f3",
   "metadata": {},
   "outputs": [],
   "source": []
  }
 ],
 "metadata": {
  "kernelspec": {
   "display_name": "Python 3 (ipykernel)",
   "language": "python",
   "name": "python3"
  },
  "language_info": {
   "codemirror_mode": {
    "name": "ipython",
    "version": 3
   },
   "file_extension": ".py",
   "mimetype": "text/x-python",
   "name": "python",
   "nbconvert_exporter": "python",
   "pygments_lexer": "ipython3",
   "version": "3.12.4"
  }
 },
 "nbformat": 4,
 "nbformat_minor": 5
}
