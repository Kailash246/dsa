{
 "cells": [
  {
   "cell_type": "code",
   "execution_count": 12,
   "id": "74947230-d0ef-407f-8433-819071d2d58c",
   "metadata": {},
   "outputs": [
    {
     "name": "stdout",
     "output_type": "stream",
     "text": [
      "Minimum value: 10\n",
      "Maximum value: 60\n",
      "Avg Value: [10 20 30 40 50 60]\n"
     ]
    }
   ],
   "source": [
    "import numpy as np\n",
    "\n",
    "\n",
    "x = np.array([10, 20, 30, 40, 50,60])\n",
    "\n",
    "\n",
    "def min_max(x):\n",
    "    min_e = np.min(x)\n",
    "    max_e = np.max(x)\n",
    "    return min_e, max_e\n",
    "\n",
    "\n",
    "min_value, max_value = min_max(x)\n",
    "x/2\n",
    "print(\"Minimum value:\", min_value)\n",
    "print(\"Maximum value:\", max_value)\n",
    "print(\"Avg Value:\",x)\n"
   ]
  },
  {
   "cell_type": "code",
   "execution_count": null,
   "id": "22484a06-00b8-47ec-8a4a-08ba44037ada",
   "metadata": {},
   "outputs": [],
   "source": [
    "import numpy as np\n",
    "\n",
    "\n",
    "x = np.array([10, 20, 30, 40, 50,60])\n",
    "\n",
    "\n",
    "def min_max(x):\n",
    "    min_e = np.min(x)\n",
    "    max_e = np.max(x)\n",
    "    return min_e, max_e\n",
    "\n",
    "\n",
    "min_value, max_value = min_max(x)\n",
    "print(\"Minimum value:\", min_value)\n",
    "print(\"Maximum value:\", max_value)\n"
   ]
  },
  {
   "cell_type": "code",
   "execution_count": 2,
   "id": "719ea150-9cd1-4b3a-bf63-9e2c97383dc9",
   "metadata": {},
   "outputs": [
    {
     "name": "stdout",
     "output_type": "stream",
     "text": [
      "[10 20 30 40 50 60  0]\n"
     ]
    }
   ],
   "source": [
    "import numpy as np \n",
    "x=np.array([10,10,20,30,40,50,40,60,10,0])\n",
    "def r_dup(x):\n",
    "    new_arr=[] \n",
    "    for i in x:\n",
    "        if i not in new_arr:\n",
    "            new_arr.append(i)\n",
    "    return np.array(new_arr)\n",
    "\n",
    "result=r_dup(x)\n",
    "type(result)\n",
    "print(result)2"
   ]
  },
  {
   "cell_type": "code",
   "execution_count": null,
   "id": "250290ef-c6be-408a-b3dc-319019976479",
   "metadata": {},
   "outputs": [],
   "source": []
  }
 ],
 "metadata": {
  "kernelspec": {
   "display_name": "Python 3 (ipykernel)",
   "language": "python",
   "name": "python3"
  },
  "language_info": {
   "codemirror_mode": {
    "name": "ipython",
    "version": 3
   },
   "file_extension": ".py",
   "mimetype": "text/x-python",
   "name": "python",
   "nbconvert_exporter": "python",
   "pygments_lexer": "ipython3",
   "version": "3.12.4"
  }
 },
 "nbformat": 4,
 "nbformat_minor": 5
}
