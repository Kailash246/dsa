{
 "cells": [
  {
   "cell_type": "code",
   "execution_count": 2,
   "id": "c8c7ddc2-476d-47a1-bacb-f03d9d86ba4d",
   "metadata": {},
   "outputs": [
    {
     "name": "stdin",
     "output_type": "stream",
     "text": [
      "Enter the first number:  2\n",
      "Enter the second number:  2\n"
     ]
    },
    {
     "name": "stdout",
     "output_type": "stream",
     "text": [
      "The sum is: 4.0\n"
     ]
    }
   ],
   "source": [
    "#7. Python program to calculate the sum of two numbers entered by the user: \n",
    "num1 = float(input(\"Enter the first number: \")) \n",
    "num2 = float(input(\"Enter the second number: \")) \n",
    "total = num1 + num2 \n",
    "\n",
    "print(\"The sum is:\", total) \n",
    "\n"
   ]
  },
  {
   "cell_type": "code",
   "execution_count": 6,
   "id": "47006d82-8911-47eb-833e-a963deca1618",
   "metadata": {},
   "outputs": [
    {
     "name": "stdin",
     "output_type": "stream",
     "text": [
      "Enter your name:  Kailash Kumar\n",
      "Enter your age:  20\n"
     ]
    },
    {
     "name": "stdout",
     "output_type": "stream",
     "text": [
      "Your name is: Kailash Kumar\n",
      "Your age is: 20\n"
     ]
    }
   ],
   "source": [
    "#8. Python program to ask the user for their name and age, then display the entered name and age:\n",
    "name = str(input(\"Enter your name: \"))\n",
    "age = int(input(\"Enter your age: \")) \n",
    "print(\"Your name is:\", name) \n",
    "print(\"Your age is:\", age)"
   ]
  },
  {
   "cell_type": "code",
   "execution_count": 6,
   "id": "b6e230a3-5aba-4db2-9e1a-977760827c7f",
   "metadata": {},
   "outputs": [
    {
     "name": "stdout",
     "output_type": "stream",
     "text": [
      "a: 10 b: 5\n"
     ]
    }
   ],
   "source": [
    "#9. Python program to swap two variables without using a third variable:\n",
    "a = 5\n",
    "b = 10\n",
    "a,b = b,a\n",
    "print(\"a:\",a,\"b:\",b)"
   ]
  },
  {
   "cell_type": "code",
   "execution_count": 27,
   "id": "7ed943c5-5411-400d-b111-2cc49ee9e3b2",
   "metadata": {},
   "outputs": [
    {
     "name": "stdout",
     "output_type": "stream",
     "text": [
      "a: 10 b: 5\n"
     ]
    }
   ],
   "source": [
    "# Python program to swap two numbers using a temporary variable:\n",
    "a = 5\n",
    "b = 10\n",
    "temp = a\n",
    "a = b\n",
    "b = temp\n",
    "print(\"a:\",a,\"b:\",b)"
   ]
  },
  {
   "cell_type": "code",
   "execution_count": 34,
   "id": "95268fc4-ce7b-46f1-bb5e-f45328a6b813",
   "metadata": {},
   "outputs": [
    {
     "name": "stdout",
     "output_type": "stream",
     "text": [
      "a 2 b 2\n"
     ]
    }
   ],
   "source": [
    "a=5\n",
    "b=2\n",
    "temp=a\n",
    "a=b\n",
    "temp=b\n",
    "print('a',a,'b',b)"
   ]
  },
  {
   "cell_type": "code",
   "execution_count": null,
   "id": "6a48acd2-3b1f-4b78-b53e-3dff76af694d",
   "metadata": {},
   "outputs": [],
   "source": [
    "# 10. Python program to take user input and print it in reverse order: \n",
    "user_input = input(\"Enter a stinrg:\")\n",
    "print(\"Reversed string:\",user_input[::-1])\n",
    "\n",
    "input = input(\"enter a srrb\")"
   ]
  },
  {
   "cell_type": "code",
   "execution_count": null,
   "id": "19575875-f3df-4421-8c80-1b6d924a329e",
   "metadata": {},
   "outputs": [],
   "source": [
    "print(\"REv str\", input[::-1])"
   ]
  },
  {
   "cell_type": "code",
   "execution_count": 44,
   "id": "e992694e-91bc-4745-9e56-f582471bfb95",
   "metadata": {},
   "outputs": [
    {
     "name": "stdout",
     "output_type": "stream",
     "text": [
      "Brfore Swapping\n",
      "a: 5\n",
      "b: 10\n",
      "after swapping\n",
      "a: 10\n",
      "b: 5\n"
     ]
    }
   ],
   "source": [
    "a=5\n",
    "b=10\n",
    "\n",
    "print(\"Brfore Swapping\")\n",
    "print(\"a:\", a)\n",
    "print(\"b:\", b)\n",
    "\n",
    "a,b=b,a\n",
    "\n",
    "print(\"after swapping\")\n",
    "print(\"a:\",a)\n",
    "print(\"b:\",b)"
   ]
  },
  {
   "cell_type": "code",
   "execution_count": 48,
   "id": "5c35905e-f41e-449c-8322-0f65048416b7",
   "metadata": {},
   "outputs": [
    {
     "name": "stdin",
     "output_type": "stream",
     "text": [
      "enter a line hiii\n"
     ]
    },
    {
     "name": "stdout",
     "output_type": "stream",
     "text": [
      "iiih\n"
     ]
    }
   ],
   "source": [
    "input = input(\"enter a line\")\n",
    "print(input[::-1])"
   ]
  },
  {
   "cell_type": "code",
   "execution_count": 46,
   "id": "bae70ed8-09a0-40cb-9127-85fe85c693fb",
   "metadata": {},
   "outputs": [
    {
     "name": "stdin",
     "output_type": "stream",
     "text": [
      "Enter the first string:  5\n",
      "Enter the second string:  4\n"
     ]
    },
    {
     "name": "stdout",
     "output_type": "stream",
     "text": [
      "Concatenated string: 54\n"
     ]
    }
   ],
   "source": [
    "# 13 Program to concatenate two strings provided by the user:\n",
    "str1 = input(\"Enter the first string: \")\n",
    "str2 = input(\"Enter the second string: \")\n",
    "result = str1 + str2\n",
    "print(\"Concatenated string:\", result)\n"
   ]
  },
  {
   "cell_type": "code",
   "execution_count": 64,
   "id": "254df129-4183-4765-9251-6a35bd0fcc59",
   "metadata": {},
   "outputs": [
    {
     "ename": "TypeError",
     "evalue": "'str' object is not callable",
     "output_type": "error",
     "traceback": [
      "\u001b[1;31m---------------------------------------------------------------------------\u001b[0m",
      "\u001b[1;31mTypeError\u001b[0m                                 Traceback (most recent call last)",
      "Cell \u001b[1;32mIn[64], line 2\u001b[0m\n\u001b[0;32m      1\u001b[0m \u001b[38;5;66;03m# 14. Program to calculate the length of a string using the len() function:\u001b[39;00m\n\u001b[1;32m----> 2\u001b[0m string \u001b[38;5;241m=\u001b[39m \u001b[38;5;28minput\u001b[39m(\u001b[38;5;124m\"\u001b[39m\u001b[38;5;124menter a string:\u001b[39m\u001b[38;5;124m\"\u001b[39m)\n\u001b[0;32m      3\u001b[0m \u001b[38;5;28mprint\u001b[39m(\u001b[38;5;124m\"\u001b[39m\u001b[38;5;124mlenght of the string:\u001b[39m\u001b[38;5;124m\"\u001b[39m,\u001b[38;5;28mlen\u001b[39m(string))\n",
      "\u001b[1;31mTypeError\u001b[0m: 'str' object is not callable"
     ]
    }
   ],
   "source": [
    "# 14. Program to calculate the length of a string using the len() function:\n",
    "string = input(\"enter a string:\")\n",
    "print(\"lenght of the string:\",len(string))"
   ]
  },
  {
   "cell_type": "code",
   "execution_count": 62,
   "id": "85194b27-cd8e-41de-ad84-0edbc85467f1",
   "metadata": {},
   "outputs": [
    {
     "ename": "TypeError",
     "evalue": "'str' object is not callable",
     "output_type": "error",
     "traceback": [
      "\u001b[1;31m---------------------------------------------------------------------------\u001b[0m",
      "\u001b[1;31mTypeError\u001b[0m                                 Traceback (most recent call last)",
      "Cell \u001b[1;32mIn[62], line 1\u001b[0m\n\u001b[1;32m----> 1\u001b[0m st \u001b[38;5;241m=\u001b[39m \u001b[38;5;28minput\u001b[39m(\u001b[38;5;124m\"\u001b[39m\u001b[38;5;124mEnter a string:\u001b[39m\u001b[38;5;124m\"\u001b[39m)\n\u001b[0;32m      2\u001b[0m \u001b[38;5;28mprint\u001b[39m(\u001b[38;5;124m\"\u001b[39m\u001b[38;5;124mLength of a str is:\u001b[39m\u001b[38;5;124m\"\u001b[39m,\u001b[38;5;28mlen\u001b[39m(st))\n",
      "\u001b[1;31mTypeError\u001b[0m: 'str' object is not callable"
     ]
    }
   ],
   "source": [
    "st = input(\"Enter a string:\")\n",
    "print(\"Length of a str is:\",len(st))"
   ]
  },
  {
   "cell_type": "code",
   "execution_count": 28,
   "id": "b3b80a1b-df06-4dcf-bb51-c9ea9fdce3bd",
   "metadata": {},
   "outputs": [
    {
     "name": "stdin",
     "output_type": "stream",
     "text": [
      "enter the 1st number: 4\n",
      "enter the 2nd number: 5\n"
     ]
    },
    {
     "name": "stdout",
     "output_type": "stream",
     "text": [
      "sum: 9.0\n",
      "Difference: -1.0\n",
      "Product: 20.0\n",
      "Quotient: 0.8\n"
     ]
    }
   ],
   "source": [
    "# 15. Program to take two numbers as input and print their sum, difference, product, and quotient:\n",
    "num1=float(input(\"enter the 1st number:\"))\n",
    "num2=float(input(\"enter the 2nd number:\"))\n",
    "print(\"sum:\",num1+num2)\n",
    "print(\"Difference:\",num1-num2)\n",
    "print(\"Product:\",num1*num2)\n",
    "print(\"Quotient:\",num1/num2)"
   ]
  },
  {
   "cell_type": "code",
   "execution_count": 4,
   "id": "8462c27e-88b4-480e-99a4-25ebe262e04a",
   "metadata": {},
   "outputs": [
    {
     "name": "stdin",
     "output_type": "stream",
     "text": [
      "Enter a string:  hello\n"
     ]
    },
    {
     "name": "stdout",
     "output_type": "stream",
     "text": [
      "Reversed string: olleh\n"
     ]
    }
   ],
   "source": [
    "#16. Python program to take a string input from the user and display it in reverse order:\n",
    "input = input(\"Enter a string: \")\n",
    "print(\"Reversed string:\", input[::-1])\n"
   ]
  },
  {
   "cell_type": "code",
   "execution_count": 9,
   "id": "0c1681ce-f5b3-4fbd-9810-c6e7c9c99785",
   "metadata": {},
   "outputs": [
    {
     "name": "stdin",
     "output_type": "stream",
     "text": [
      "enter a number: 24\n"
     ]
    },
    {
     "name": "stdout",
     "output_type": "stream",
     "text": [
      "the num is positive\n"
     ]
    }
   ],
   "source": [
    "#17. Python program to check if a number is positive, negative, or zero:\n",
    "num = float(input(\"enter a number:\"))\n",
    "if num > 0:\n",
    "    print(\"the num is positive\")\n",
    "elif num<0:\n",
    "    print(\"the num is negative\")\n",
    "else:\n",
    "    print(\"the number is zero\")"
   ]
  },
  {
   "cell_type": "code",
   "execution_count": 11,
   "id": "f441bb99-1eda-466e-a46b-aa1922ceb11a",
   "metadata": {},
   "outputs": [
    {
     "name": "stdin",
     "output_type": "stream",
     "text": [
      "enter a number: 2\n"
     ]
    },
    {
     "name": "stdout",
     "output_type": "stream",
     "text": [
      "the number is even\n"
     ]
    }
   ],
   "source": [
    "#18. Python program to determine if a number is even or odd:\n",
    "int(input(\"enter a number:\"))\n",
    "if num%2==0:\n",
    "    print(\"the number is even\")\n",
    "else:\n",
    "    print(\"the number is odd\")"
   ]
  },
  {
   "cell_type": "code",
   "execution_count": 305,
   "id": "bf9537e2-0931-4748-91c0-1cddd594d703",
   "metadata": {},
   "outputs": [
    {
     "name": "stdin",
     "output_type": "stream",
     "text": [
      "saal daalooo 2020\n"
     ]
    },
    {
     "name": "stdout",
     "output_type": "stream",
     "text": [
      "2020 leap saal hai\n"
     ]
    }
   ],
   "source": [
    "year = int(input(\"saal daalooo\"))\n",
    "if (year % 4 == 0 and year % 100 != 0) or (year % 400 == 0):\n",
    " print(year, \"leap saal hai\")\n",
    "else:\n",
    " print(year, \"leap saal nhi hai\")\n"
   ]
  },
  {
   "cell_type": "code",
   "execution_count": 45,
   "id": "c329c57a-f238-4758-b255-15714dab072c",
   "metadata": {},
   "outputs": [
    {
     "name": "stdout",
     "output_type": "stream",
     "text": [
      "odd numbers are: [1, 3, 5, 7, 9]\n"
     ]
    }
   ],
   "source": [
    "#41. Write a Python program to create a new list containing all the odd elements from the list [1, 2, 3, 4, 5, 6, 7, 8].\n",
    "\n",
    "numbers = [1,2,3,4,5,6,7,8,9]\n",
    "odd = [num for num in numbers if num %2!=0]\n",
    "print(\"odd numbers are:\",odd)"
   ]
  },
  {
   "cell_type": "code",
   "execution_count": 2,
   "id": "5ee58e6b-2bc6-497a-9c0f-28a00b5e5701",
   "metadata": {},
   "outputs": [
    {
     "name": "stdout",
     "output_type": "stream",
     "text": [
      "even numbers are: [2, 4, 6, 8, 0]\n"
     ]
    }
   ],
   "source": [
    "numbers = [1,2,3,4,5,6,7,8,9,0]\n",
    "even = [num for num in numbers if num %2==0]\n",
    "print(\"even numbers are:\",even)"
   ]
  },
  {
   "cell_type": "code",
   "execution_count": 16,
   "id": "b953b77c-15dd-49a2-b2ba-b35a58f27103",
   "metadata": {},
   "outputs": [
    {
     "ename": "SyntaxError",
     "evalue": "'(' was never closed (1143964734.py, line 1)",
     "output_type": "error",
     "traceback": [
      "\u001b[1;36m  Cell \u001b[1;32mIn[16], line 1\u001b[1;36m\u001b[0m\n\u001b[1;33m    num = float(input(\"enter list of numbers\")\u001b[0m\n\u001b[1;37m               ^\u001b[0m\n\u001b[1;31mSyntaxError\u001b[0m\u001b[1;31m:\u001b[0m '(' was never closed\n"
     ]
    }
   ],
   "source": [
    "num = float(input(\"enter list of numbers\")\n",
    "             even = [num for num in numbers if num % 2!==0]\n",
    "print(\"even numbers:\",even)"
   ]
  },
  {
   "cell_type": "code",
   "execution_count": 12,
   "id": "1184ac41-139c-471b-be2a-a4ee2c763ac7",
   "metadata": {},
   "outputs": [
    {
     "name": "stdin",
     "output_type": "stream",
     "text": [
      "Enter list of numbers separated by spaces:  1 2 3 4 5 6 7 8 9\n"
     ]
    },
    {
     "name": "stdout",
     "output_type": "stream",
     "text": [
      "Even numbers: [2, 4, 6, 8]\n"
     ]
    }
   ],
   "source": [
    "# Get input from the user\n",
    "numbers = input(\"Enter list of numbers separated by spaces: \")\n",
    "\n",
    "# Convert the input string to a list of integers\n",
    "numbers = list(map(int, numbers.split()))\n",
    "\n",
    "# Find the even numbers\n",
    "even_numbers = [num for num in numbers if num % 2 == 0]\n",
    "\n",
    "# Print the even numbers\n",
    "print(\"Even numbers:\", even_numbers)\n"
   ]
  },
  {
   "cell_type": "code",
   "execution_count": null,
   "id": "9aea432f-1957-4832-a9f8-40bbd143b45b",
   "metadata": {},
   "outputs": [],
   "source": [
    "numbers = map(int, input(\"Enter list of numbers separated by spaces: \").split())\n",
    "even_numbers = [num for num in numbers if num % 2 == 0]\n",
    "print(\"Even numbers:\", even_numbers)\n"
   ]
  },
  {
   "cell_type": "code",
   "execution_count": 36,
   "id": "ba187d03-c260-42b4-9412-70a5ec7372ef",
   "metadata": {},
   "outputs": [
    {
     "name": "stdout",
     "output_type": "stream",
     "text": [
      "Odd numbers set: {1, 3, 5, 7, 9}\n"
     ]
    }
   ],
   "source": [
    "numbers = {1, 2, 3, 4, 5, 6, 7, 8, 9, 10}\n",
    "odd_numbers = {num for num in numbers if num % 2 != 0}\n",
    "print(\"Odd numbers set:\", odd_numbers)"
   ]
  },
  {
   "cell_type": "code",
   "execution_count": 44,
   "id": "3d48d0ae-fb08-4975-83bb-35e9f8ce07e7",
   "metadata": {},
   "outputs": [
    {
     "name": "stdout",
     "output_type": "stream",
     "text": [
      "largest numbers are: 8\n",
      "smallest numbers are: 1\n"
     ]
    }
   ],
   "source": [
    "num = [1,2,3,4,5,6,7,8]\n",
    "large = max(num)\n",
    "small = min(num)\n",
    "print(\"largest numbers are:\",large)\n",
    "print(\"smallest numbers are:\",small)"
   ]
  },
  {
   "cell_type": "code",
   "execution_count": 54,
   "id": "1bf9a9ed-40df-4405-a98b-914fbe9ea6c6",
   "metadata": {},
   "outputs": [
    {
     "name": "stdout",
     "output_type": "stream",
     "text": [
      "largest numbers are: 10\n",
      "smallest numbers are: 1\n"
     ]
    }
   ],
   "source": [
    "numbers = [1,2,3,4,5,6,7,8 ,      10 ]\n",
    "largest = max(numbers)\n",
    "smallest = min(numbers)\n",
    "print(\"largest numbers are:\",largest)\n",
    "print(\"smallest numbers are:\",smallest)\n"
   ]
  },
  {
   "cell_type": "code",
   "execution_count": 58,
   "id": "982d9bf0-a70f-45ba-83ce-3847a8f7108c",
   "metadata": {},
   "outputs": [
    {
     "name": "stdout",
     "output_type": "stream",
     "text": [
      "qni nums are: [1, 2, 3, 4, 5, 6]\n"
     ]
    }
   ],
   "source": [
    "num = [1,2,3,3,4,5,5,6]\n",
    "uni = list(set(num))\n",
    "print(\"qni nums are:\",uni)"
   ]
  },
  {
   "cell_type": "code",
   "execution_count": 62,
   "id": "aa27e2a9-db4e-4b82-b075-2986a02e9366",
   "metadata": {},
   "outputs": [
    {
     "name": "stdout",
     "output_type": "stream",
     "text": [
      "Updated dictionary: {'age': 26, 'city': 'New York'}\n"
     ]
    }
   ],
   "source": [
    "my_dict = {\"name\": \"Alice\", \"age\": 25}\n",
    "# Add an element\n",
    "my_dict[\"city\"] = \"New York\"\n",
    "# Update an element\n",
    "my_dict[\"age\"] = 26\n",
    "# Remove an element\n",
    "my_dict.pop(\"name\")\n",
    "print(\"Updated dictionary:\", my_dict)"
   ]
  },
  {
   "cell_type": "code",
   "execution_count": 2,
   "id": "de0d7254-2c24-456a-8496-235cc0aae7fb",
   "metadata": {},
   "outputs": [
    {
     "name": "stdout",
     "output_type": "stream",
     "text": [
      "sorted numbers: [1, 2, 3, 3, 4, 4, 5, 5, 6]\n"
     ]
    }
   ],
   "source": [
    "num = [4,5,6,1,2,3,3,4,5]\n",
    "sorted = sorted(num)\n",
    "print(\"sorted numbers:\",sorted)"
   ]
  },
  {
   "cell_type": "code",
   "execution_count": 4,
   "id": "a73536e8-9b72-4243-9085-c44cc1b094e1",
   "metadata": {},
   "outputs": [
    {
     "name": "stdin",
     "output_type": "stream",
     "text": [
      "Enter a number:  4\n"
     ]
    },
    {
     "name": "stdout",
     "output_type": "stream",
     "text": [
      "Square of the nu]mber: 16\n"
     ]
    }
   ],
   "source": [
    "square = lambda x: x ** 2\n",
    "num = int(input(\"Enter a number: \"))\n",
    "print(\"Square of the nu]mber:\", square(num))"
   ]
  },
  {
   "cell_type": "code",
   "execution_count": 125,
   "id": "e54c71a8-2d20-49b9-b5f9-ee9c66f956de",
   "metadata": {},
   "outputs": [
    {
     "name": "stdin",
     "output_type": "stream",
     "text": [
      "Enter a number:  10\n"
     ]
    },
    {
     "name": "stdout",
     "output_type": "stream",
     "text": [
      "Sum of even numbers: 30\n"
     ]
    }
   ],
   "source": [
    "def sum_of_evens(n):\n",
    " return sum(i for i in range(1, n + 1) if i % 2 == 0)\n",
    "n = int(input(\"Enter a number: \"))\n",
    "print(\"Sum of even numbers:\", sum_of_evens(n))\n"
   ]
  },
  {
   "cell_type": "code",
   "execution_count": 267,
   "id": "ba3c0b81-8170-4e9a-aa60-03c207ee7174",
   "metadata": {},
   "outputs": [
    {
     "name": "stdin",
     "output_type": "stream",
     "text": [
      "Enter a number:  5\n"
     ]
    },
    {
     "name": "stdout",
     "output_type": "stream",
     "text": [
      "Is prime: True\n"
     ]
    }
   ],
   "source": [
    "#54. Python function to check if a number is prime or not\n",
    "def is_prime(num):\n",
    "    if num <= 1:\n",
    "        return False\n",
    "    for i in range(2, int(num ** 0.5) + 1):\n",
    "        if num % i == 0:\n",
    "            return False\n",
    "    return True\n",
    "\n",
    "num = int(input(\"Enter a number: \"))\n",
    "print(\"Is prime:\", is_prime(num))\n"
   ]
  },
  {
   "cell_type": "code",
   "execution_count": 299,
   "id": "58785d02-fc74-4d46-b5ca-117ed2143717",
   "metadata": {},
   "outputs": [
    {
     "name": "stdin",
     "output_type": "stream",
     "text": [
      "Enter a number:  22\n"
     ]
    },
    {
     "name": "stdout",
     "output_type": "stream",
     "text": [
      "Is palindrome: True\n"
     ]
    }
   ],
   "source": [
    "# 57. Develop a function that checks whether a number is a palindrome.\n",
    "def is_palindrome(num):\n",
    " return str(num) == str(num)[::-1]\n",
    "num = int(input(\"Enter a number: \"))\n",
    "print(\"Is palindrome:\", is_palindrome(num))"
   ]
  },
  {
   "cell_type": "code",
   "execution_count": 221,
   "id": "66c7486b-469c-4231-b4e7-49b487db225d",
   "metadata": {},
   "outputs": [
    {
     "name": "stdin",
     "output_type": "stream",
     "text": [
      "enter first number: 45\n",
      "enter 2nd number: 54\n",
      "enter 3rd number: 65\n"
     ]
    },
    {
     "name": "stdout",
     "output_type": "stream",
     "text": [
      "the largest is: 65.0\n"
     ]
    }
   ],
   "source": [
    "#21. Write a Python program to find the largest of three numbers using if-elif-else\n",
    "a = float(input(\"enter first number:\"))\n",
    "b = float(input(\"enter 2nd number:\"))\n",
    "c = float(input(\"enter 3rd number:\"))\n",
    "if a>b and a>c:\n",
    "    print(\"the largest is:\",a)\n",
    "elif b>c:\n",
    "     print(\"the largest is:\",b)\n",
    "else:\n",
    "    "
   ]
  },
  {
   "cell_type": "code",
   "execution_count": 243,
   "id": "cbfb04fc-58aa-4f0a-a65b-a0582b18e451",
   "metadata": {},
   "outputs": [
    {
     "name": "stdin",
     "output_type": "stream",
     "text": [
      "Enter the number of rows:  2\n"
     ]
    },
    {
     "name": "stdout",
     "output_type": "stream",
     "text": [
      "* \n",
      "* * \n"
     ]
    }
   ],
   "source": [
    "n = int(input(\"Enter the number of rows: \"))\n",
    "for i in range(1, n + 1):\n",
    " print(\"* \" * i)\n"
   ]
  },
  {
   "cell_type": "code",
   "execution_count": 259,
   "id": "e0153eaa-53ba-4d36-b9d3-a16c2fd8681f",
   "metadata": {},
   "outputs": [
    {
     "name": "stdin",
     "output_type": "stream",
     "text": [
      "Enter the number of rows:  4\n"
     ]
    },
    {
     "name": "stdout",
     "output_type": "stream",
     "text": [
      "* * * * \n",
      "* * * \n",
      "* * \n",
      "* \n"
     ]
    }
   ],
   "source": [
    "n = int(input(\"Enter the number of rows: \"))\n",
    "for i in range(n,0,-1):\n",
    " print(\"* \" * i)\n"
   ]
  },
  {
   "cell_type": "code",
   "execution_count": 263,
   "id": "9b29e9f5-9f30-43d1-a942-6d1ed68e836c",
   "metadata": {},
   "outputs": [
    {
     "name": "stdin",
     "output_type": "stream",
     "text": [
      "Enter the number of rows:  4\n"
     ]
    },
    {
     "name": "stdout",
     "output_type": "stream",
     "text": [
      "1 \n",
      "2 2 \n",
      "3 3 3 \n",
      "4 4 4 4 \n"
     ]
    }
   ],
   "source": [
    "n = int(input(\"Enter the number of rows: \"))\n",
    "for i in range(1, n + 1):\n",
    " print((str(i) + \" \") * i)\n",
    "    "
   ]
  },
  {
   "cell_type": "code",
   "execution_count": 269,
   "id": "9462a51a-c327-409d-8341-ea85130de05b",
   "metadata": {},
   "outputs": [
    {
     "name": "stdout",
     "output_type": "stream",
     "text": [
      "intersection: {3, 4}\n"
     ]
    }
   ],
   "source": [
    "set1 = {1,2,3,4}\n",
    "set2 = {3,4,5,6}\n",
    "intersection =set1 & set2\n",
    "print(\"intersection:\",intersection)"
   ]
  },
  {
   "cell_type": "code",
   "execution_count": 277,
   "id": "8c135e04-bfb5-46ad-9660-3898c9b88e55",
   "metadata": {},
   "outputs": [
    {
     "name": "stdout",
     "output_type": "stream",
     "text": [
      "union: {1, 2, 3, 4, 5, 6}\n",
      "difference: {1, 2}\n"
     ]
    }
   ],
   "source": [
    "set1 = {1,2,3,4}\n",
    "set2 = {3,4,5,6}\n",
    "union =set1 | set2\n",
    "print(\"union:\",union)\n",
    "difference =set1 - set2\n",
    "print(\"difference:\",difference)"
   ]
  },
  {
   "cell_type": "code",
   "execution_count": 275,
   "id": "ecf449e8-4a2b-47b9-a410-0f4d33934392",
   "metadata": {},
   "outputs": [
    {
     "name": "stdout",
     "output_type": "stream",
     "text": [
      "difference: {1, 2}\n"
     ]
    }
   ],
   "source": [
    "set1 = {1,2,3,4}\n",
    "set2 = {3,4,5,6}\n",
    "difference =set1 - set2\n",
    "print(\"difference:\",difference)"
   ]
  },
  {
   "cell_type": "code",
   "execution_count": 301,
   "id": "8914bc7b-6917-4eec-9cd7-26d81deafb51",
   "metadata": {},
   "outputs": [
    {
     "name": "stdin",
     "output_type": "stream",
     "text": [
      "Enter a string:  Apple\n"
     ]
    },
    {
     "name": "stdout",
     "output_type": "stream",
     "text": [
      "Number of vowels: 2\n"
     ]
    }
   ],
   "source": [
    "# 31. Write a Python program to count the number of vowels in a string provided by the user.\n",
    "text = input(\"Enter a string: \").lower()\n",
    "vowels = \"aeiou\"\n",
    "count = sum(1 for char in text if char in vowels)\n",
    "print(\"Number of vowels:\", count)"
   ]
  },
  {
   "cell_type": "code",
   "execution_count": null,
   "id": "392a1818-befc-4dcb-b680-fef81d4e0b74",
   "metadata": {},
   "outputs": [],
   "source": []
  }
 ],
 "metadata": {
  "kernelspec": {
   "display_name": "Python 3 (ipykernel)",
   "language": "python",
   "name": "python3"
  },
  "language_info": {
   "codemirror_mode": {
    "name": "ipython",
    "version": 3
   },
   "file_extension": ".py",
   "mimetype": "text/x-python",
   "name": "python",
   "nbconvert_exporter": "python",
   "pygments_lexer": "ipython3",
   "version": "3.12.4"
  }
 },
 "nbformat": 4,
 "nbformat_minor": 5
}
