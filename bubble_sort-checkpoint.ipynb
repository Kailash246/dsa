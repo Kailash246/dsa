{
 "cells": [
  {
   "cell_type": "code",
   "execution_count": 10,
   "id": "dde89a11-da4f-49f6-aa3b-30dfc68dc1b5",
   "metadata": {},
   "outputs": [
    {
     "name": "stdin",
     "output_type": "stream",
     "text": [
      "Enter the elements separated by spaces:  10 40 0 5 20\n"
     ]
    },
    {
     "name": "stdout",
     "output_type": "stream",
     "text": [
      "Sorted list: [0, 5, 10, 20, 40]\n"
     ]
    }
   ],
   "source": [
    "def bubble_sort(lst):\n",
    "    size = len(lst)\n",
    "    for i in range(size-1):\n",
    "        for j in range(size-1-i):  \n",
    "            if lst[j] > lst[j+1]:\n",
    "                temp = lst[j]\n",
    "                lst[j] = lst[j+1]\n",
    "                lst[j+1] = temp\n",
    "    return lst\n",
    "\n",
    "\n",
    "lst = list(map(int, input(\"Enter the elements separated by spaces: \").split()))\n",
    "\n",
    "sorted_list = bubble_sort(lst)\n",
    "print(\"Sorted list:\", sorted_list)\n"
   ]
  },
  {
   "cell_type": "code",
   "execution_count": null,
   "id": "2675ab44-eaaf-4d5c-8822-5a877b1eeffc",
   "metadata": {},
   "outputs": [],
   "source": []
  }
 ],
 "metadata": {
  "kernelspec": {
   "display_name": "Python 3 (ipykernel)",
   "language": "python",
   "name": "python3"
  },
  "language_info": {
   "codemirror_mode": {
    "name": "ipython",
    "version": 3
   },
   "file_extension": ".py",
   "mimetype": "text/x-python",
   "name": "python",
   "nbconvert_exporter": "python",
   "pygments_lexer": "ipython3",
   "version": "3.12.4"
  }
 },
 "nbformat": 4,
 "nbformat_minor": 5
}
