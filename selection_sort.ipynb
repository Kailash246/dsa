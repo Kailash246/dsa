{
 "cells": [
  {
   "cell_type": "code",
   "execution_count": 24,
   "id": "2675ab44-eaaf-4d5c-8822-5a877b1eeffc",
   "metadata": {},
   "outputs": [
    {
     "name": "stdin",
     "output_type": "stream",
     "text": [
      "enter number of elements: 10 20 40 30 50\n"
     ]
    },
    {
     "ename": "ValueError",
     "evalue": "invalid literal for int() with base 10: '10 20 40 30 50'",
     "output_type": "error",
     "traceback": [
      "\u001b[1;31m---------------------------------------------------------------------------\u001b[0m",
      "\u001b[1;31mValueError\u001b[0m                                Traceback (most recent call last)",
      "Cell \u001b[1;32mIn[24], line 10\u001b[0m\n\u001b[0;32m      7\u001b[0m             \u001b[38;5;28mmin\u001b[39m\u001b[38;5;241m=\u001b[39m\u001b[38;5;28mlist\u001b[39m[j]\n\u001b[0;32m      8\u001b[0m             posn\u001b[38;5;241m=\u001b[39mj\n\u001b[1;32m---> 10\u001b[0m n\u001b[38;5;241m=\u001b[39m\u001b[38;5;28mint\u001b[39m(\u001b[38;5;28minput\u001b[39m(\u001b[38;5;124m\"\u001b[39m\u001b[38;5;124menter number of elements:\u001b[39m\u001b[38;5;124m\"\u001b[39m))\n\u001b[0;32m     11\u001b[0m lst\u001b[38;5;241m=\u001b[39m[]\n\u001b[0;32m     12\u001b[0m \u001b[38;5;28;01mfor\u001b[39;00m i \u001b[38;5;129;01min\u001b[39;00m \u001b[38;5;28mrange\u001b[39m(n):\n",
      "\u001b[1;31mValueError\u001b[0m: invalid literal for int() with base 10: '10 20 40 30 50'"
     ]
    }
   ],
   "source": [
    "def selection_sort(list):\n",
    "    size = len(list)\n",
    "    for i in range(size-1):\n",
    "        min = list[i]\n",
    "        posn=i\n",
    "        for j in range(i+1,size):\n",
    "            min=list[j]\n",
    "            posn=j\n",
    "\n",
    "n=int(input(\"enter number of elements:\"))\n",
    "lst=[]\n",
    "for i in range(n):\n",
    "    num=int(input(\"enter elements:\"))\n",
    "    lst.aapend(num)\n",
    "\n",
    "selection_sort(lst)\n",
    "print(\"The sorted elements are:\")\n",
    "for i in range(n):\n",
    "    print(lst[i],end=\" \")"
   ]
  },
  {
   "cell_type": "code",
   "execution_count": 16,
   "id": "de8afbe0-f795-4d23-8e15-c1b19c56d1f0",
   "metadata": {},
   "outputs": [
    {
     "name": "stdin",
     "output_type": "stream",
     "text": [
      "Enter the elements separated by spaces:  10 50 20 40 30\n"
     ]
    },
    {
     "name": "stdout",
     "output_type": "stream",
     "text": [
      "The sorted elements are:\n",
      "10\n",
      "20\n",
      "30\n",
      "40\n",
      "50\n"
     ]
    }
   ],
   "source": [
    "def selection_sort(lst):\n",
    "    size = len(lst)\n",
    "    for i in range(size-1):\n",
    "        min_idx = i\n",
    "        for j in range(i+1, size):\n",
    "            if lst[j] < lst[min_idx]:\n",
    "                min_idx = j\n",
    "        # Swap the found minimum element with the first element\n",
    "        lst[i], lst[min_idx] = lst[min_idx], lst[i]\n",
    "\n",
    "# Taking input as a single line of space-separated numbers\n",
    "lst = list(map(int, input(\"Enter the elements separated by spaces: \").split()))\n",
    "\n",
    "selection_sort(lst)\n",
    "print(\"The sorted elements are:\")\n",
    "for i in range(len(lst)):\n",
    "    print(lst[i])\n"
   ]
  },
  {
   "cell_type": "code",
   "execution_count": null,
   "id": "2a55c69c-091d-4b35-a36f-f1ba52796955",
   "metadata": {},
   "outputs": [],
   "source": []
  }
 ],
 "metadata": {
  "kernelspec": {
   "display_name": "Python 3 (ipykernel)",
   "language": "python",
   "name": "python3"
  },
  "language_info": {
   "codemirror_mode": {
    "name": "ipython",
    "version": 3
   },
   "file_extension": ".py",
   "mimetype": "text/x-python",
   "name": "python",
   "nbconvert_exporter": "python",
   "pygments_lexer": "ipython3",
   "version": "3.12.4"
  }
 },
 "nbformat": 4,
 "nbformat_minor": 5
}
