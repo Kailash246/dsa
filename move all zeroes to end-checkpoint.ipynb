{
 "cells": [
  {
   "cell_type": "code",
   "execution_count": 8,
   "id": "5ea37dec-fff0-4ee9-b628-11b85c5c7847",
   "metadata": {},
   "outputs": [
    {
     "ename": "IndentationError",
     "evalue": "unexpected indent (1801062169.py, line 6)",
     "output_type": "error",
     "traceback": [
      "\u001b[1;36m  Cell \u001b[1;32mIn[8], line 6\u001b[1;36m\u001b[0m\n\u001b[1;33m    n = len(x)\u001b[0m\n\u001b[1;37m    ^\u001b[0m\n\u001b[1;31mIndentationError\u001b[0m\u001b[1;31m:\u001b[0m unexpected indent\n"
     ]
    }
   ],
   "source": [
    "#last occerence of one\n",
    "import numpy as np\n",
    "x=np.array ([0,1,1,0,1,0,1,0,0,])\n",
    "def last1_occur(x):\n",
    "   index=-1\n",
    "    n = len(x)\n",
    "for i in rangeI(n):\n",
    "    if x[i]==1:\n",
    "        index=i\n",
    "return index\n",
    "print(\"last index of one:\",last1_occur(x))"
   ]
  },
  {
   "cell_type": "code",
   "execution_count": 10,
   "id": "b8ffb6d8-3fea-48c6-8467-32d166afdf19",
   "metadata": {},
   "outputs": [
    {
     "name": "stdout",
     "output_type": "stream",
     "text": [
      "Output: [1, 1, 1, 1, 1, 0, 0]\n"
     ]
    }
   ],
   "source": [
    "#move all zeroes to end\n",
    "import numpy as np\n",
    "x = np.array([0,1,0,1,1,1,1])\n",
    "def Move_Zero_end(x):\n",
    "    Count_0 = 0\n",
    "    Store_1 = 0\n",
    "    for i in x:\n",
    "        if i == 1:\n",
    "            Store_1 += 1\n",
    "        else:\n",
    "            Count_0 += 1\n",
    "    result = ([1]*Store_1)+([0]*Count_0)\n",
    "    return result\n",
    "print(\"Output:\",Move_Zero_end(x))"
   ]
  },
  {
   "cell_type": "code",
   "execution_count": null,
   "id": "f7cba70a-d638-40e8-9b9c-71e6fe0d9d3d",
   "metadata": {},
   "outputs": [],
   "source": []
  }
 ],
 "metadata": {
  "kernelspec": {
   "display_name": "Python 3 (ipykernel)",
   "language": "python",
   "name": "python3"
  },
  "language_info": {
   "codemirror_mode": {
    "name": "ipython",
    "version": 3
   },
   "file_extension": ".py",
   "mimetype": "text/x-python",
   "name": "python",
   "nbconvert_exporter": "python",
   "pygments_lexer": "ipython3",
   "version": "3.12.4"
  }
 },
 "nbformat": 4,
 "nbformat_minor": 5
}
